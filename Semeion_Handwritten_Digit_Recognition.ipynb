{
 "cells": [
  {
   "cell_type": "markdown",
   "metadata": {},
   "source": [
    "## Deep Learning Project"
   ]
  },
  {
   "cell_type": "markdown",
   "metadata": {},
   "source": [
    "### Build a digit recognition program\n",
    "\n",
    "In this project we are going to design and implement a deep learning model that recognize the digit which is written in fast way. \n",
    "\n",
    "We will use Keras package to do this."
   ]
  },
  {
   "cell_type": "markdown",
   "metadata": {},
   "source": [
    "### Data Set Information:\n",
    "\n",
    "1593 handwritten digits from around 80 persons were scanned, stretched in a rectangular box 16x16 in a gray scale of 256 values.Then each pixel of each image was scaled into a bolean (1/0) value using a fixed threshold. \n",
    "\n",
    "Each person wrote on a paper all the digits from 0 to 9, twice. The commitment was to write the digit the first time in the normal way (trying to write each digit accurately) and the second time in a fast way (with no accuracy). \n",
    "\n",
    "The best validation protocol for this dataset seems to be a 5x2CV, 50% Tune (Train +Test) and completly blind 50% Validation"
   ]
  },
  {
   "cell_type": "markdown",
   "metadata": {},
   "source": [
    "### Attribute Information:\n",
    "\n",
    "This dataset consists of 1593 records (rows) and 256 attributes (columns). \n",
    "\n",
    "Each record represents a handwritten digit, orginally scanned with a resolution of 256 grays scale (28). \n",
    "\n",
    "Each pixel of the each original scanned image was first stretched, and after scaled between 0 and 1 (setting to 0 every pixel whose value was under tha value 127 of the grey scale (127 included) and setting to 1 each pixel whose orinal value in the grey scale was over 127). \n",
    "\n",
    "Finally, each binary image was scaled again into a 16x16 square box (the final 256 binary attributes)."
   ]
  },
  {
   "cell_type": "markdown",
   "metadata": {},
   "source": [
    "### Implementation:\n",
    "First we will import all required modules"
   ]
  },
  {
   "cell_type": "code",
   "execution_count": 1,
   "metadata": {},
   "outputs": [
    {
     "name": "stderr",
     "output_type": "stream",
     "text": [
      "/home/nbuser/anaconda3_501/lib/python3.6/site-packages/matplotlib/font_manager.py:281: UserWarning: Matplotlib is building the font cache using fc-list. This may take a moment.\n",
      "  'Matplotlib is building the font cache using fc-list. '\n",
      "/home/nbuser/anaconda3_501/lib/python3.6/site-packages/h5py/__init__.py:36: FutureWarning: Conversion of the second argument of issubdtype from `float` to `np.floating` is deprecated. In future, it will be treated as `np.float64 == np.dtype(float).type`.\n",
      "  from ._conv import register_converters as _register_converters\n",
      "Using TensorFlow backend.\n"
     ]
    }
   ],
   "source": [
    "#Import modules\n",
    "import pandas as pd\n",
    "import matplotlib.pyplot as plt\n",
    "import numpy as np\n",
    "%matplotlib inline\n",
    "import keras\n",
    "from keras.models import Sequential\n",
    "from keras.layers import Dense, Dropout, Flatten\n",
    "from keras.layers import Conv2D, MaxPooling2D\n",
    "from keras import backend as K\n",
    "from sklearn.model_selection import train_test_split"
   ]
  },
  {
   "cell_type": "code",
   "execution_count": 2,
   "metadata": {},
   "outputs": [],
   "source": [
    "#Reading the dataset\n",
    "data = pd.read_csv(\"Data/semeion.data\",sep= \" \", header = None)"
   ]
  },
  {
   "cell_type": "code",
   "execution_count": 3,
   "metadata": {},
   "outputs": [
    {
     "data": {
      "text/html": [
       "<div>\n",
       "<style>\n",
       "    .dataframe thead tr:only-child th {\n",
       "        text-align: right;\n",
       "    }\n",
       "\n",
       "    .dataframe thead th {\n",
       "        text-align: left;\n",
       "    }\n",
       "\n",
       "    .dataframe tbody tr th {\n",
       "        vertical-align: top;\n",
       "    }\n",
       "</style>\n",
       "<table border=\"1\" class=\"dataframe\">\n",
       "  <thead>\n",
       "    <tr style=\"text-align: right;\">\n",
       "      <th></th>\n",
       "      <th>0</th>\n",
       "      <th>1</th>\n",
       "      <th>2</th>\n",
       "      <th>3</th>\n",
       "      <th>4</th>\n",
       "      <th>5</th>\n",
       "      <th>6</th>\n",
       "      <th>7</th>\n",
       "      <th>8</th>\n",
       "      <th>9</th>\n",
       "      <th>...</th>\n",
       "      <th>257</th>\n",
       "      <th>258</th>\n",
       "      <th>259</th>\n",
       "      <th>260</th>\n",
       "      <th>261</th>\n",
       "      <th>262</th>\n",
       "      <th>263</th>\n",
       "      <th>264</th>\n",
       "      <th>265</th>\n",
       "      <th>266</th>\n",
       "    </tr>\n",
       "  </thead>\n",
       "  <tbody>\n",
       "    <tr>\n",
       "      <th>0</th>\n",
       "      <td>0.0</td>\n",
       "      <td>0.0</td>\n",
       "      <td>0.0</td>\n",
       "      <td>0.0</td>\n",
       "      <td>0.0</td>\n",
       "      <td>0.0</td>\n",
       "      <td>1.0</td>\n",
       "      <td>1.0</td>\n",
       "      <td>1.0</td>\n",
       "      <td>1.0</td>\n",
       "      <td>...</td>\n",
       "      <td>0</td>\n",
       "      <td>0</td>\n",
       "      <td>0</td>\n",
       "      <td>0</td>\n",
       "      <td>0</td>\n",
       "      <td>0</td>\n",
       "      <td>0</td>\n",
       "      <td>0</td>\n",
       "      <td>0</td>\n",
       "      <td>NaN</td>\n",
       "    </tr>\n",
       "    <tr>\n",
       "      <th>1</th>\n",
       "      <td>0.0</td>\n",
       "      <td>0.0</td>\n",
       "      <td>0.0</td>\n",
       "      <td>0.0</td>\n",
       "      <td>0.0</td>\n",
       "      <td>1.0</td>\n",
       "      <td>1.0</td>\n",
       "      <td>1.0</td>\n",
       "      <td>1.0</td>\n",
       "      <td>1.0</td>\n",
       "      <td>...</td>\n",
       "      <td>0</td>\n",
       "      <td>0</td>\n",
       "      <td>0</td>\n",
       "      <td>0</td>\n",
       "      <td>0</td>\n",
       "      <td>0</td>\n",
       "      <td>0</td>\n",
       "      <td>0</td>\n",
       "      <td>0</td>\n",
       "      <td>NaN</td>\n",
       "    </tr>\n",
       "    <tr>\n",
       "      <th>2</th>\n",
       "      <td>0.0</td>\n",
       "      <td>0.0</td>\n",
       "      <td>0.0</td>\n",
       "      <td>0.0</td>\n",
       "      <td>0.0</td>\n",
       "      <td>0.0</td>\n",
       "      <td>0.0</td>\n",
       "      <td>0.0</td>\n",
       "      <td>0.0</td>\n",
       "      <td>1.0</td>\n",
       "      <td>...</td>\n",
       "      <td>0</td>\n",
       "      <td>0</td>\n",
       "      <td>0</td>\n",
       "      <td>0</td>\n",
       "      <td>0</td>\n",
       "      <td>0</td>\n",
       "      <td>0</td>\n",
       "      <td>0</td>\n",
       "      <td>0</td>\n",
       "      <td>NaN</td>\n",
       "    </tr>\n",
       "    <tr>\n",
       "      <th>3</th>\n",
       "      <td>0.0</td>\n",
       "      <td>0.0</td>\n",
       "      <td>0.0</td>\n",
       "      <td>0.0</td>\n",
       "      <td>0.0</td>\n",
       "      <td>0.0</td>\n",
       "      <td>1.0</td>\n",
       "      <td>1.0</td>\n",
       "      <td>1.0</td>\n",
       "      <td>1.0</td>\n",
       "      <td>...</td>\n",
       "      <td>0</td>\n",
       "      <td>0</td>\n",
       "      <td>0</td>\n",
       "      <td>0</td>\n",
       "      <td>0</td>\n",
       "      <td>0</td>\n",
       "      <td>0</td>\n",
       "      <td>0</td>\n",
       "      <td>0</td>\n",
       "      <td>NaN</td>\n",
       "    </tr>\n",
       "    <tr>\n",
       "      <th>4</th>\n",
       "      <td>0.0</td>\n",
       "      <td>0.0</td>\n",
       "      <td>0.0</td>\n",
       "      <td>0.0</td>\n",
       "      <td>0.0</td>\n",
       "      <td>0.0</td>\n",
       "      <td>0.0</td>\n",
       "      <td>0.0</td>\n",
       "      <td>0.0</td>\n",
       "      <td>1.0</td>\n",
       "      <td>...</td>\n",
       "      <td>0</td>\n",
       "      <td>0</td>\n",
       "      <td>0</td>\n",
       "      <td>0</td>\n",
       "      <td>0</td>\n",
       "      <td>0</td>\n",
       "      <td>0</td>\n",
       "      <td>0</td>\n",
       "      <td>0</td>\n",
       "      <td>NaN</td>\n",
       "    </tr>\n",
       "  </tbody>\n",
       "</table>\n",
       "<p>5 rows × 267 columns</p>\n",
       "</div>"
      ],
      "text/plain": [
       "   0    1    2    3    4    5    6    7    8    9   ...   257  258  259  260  \\\n",
       "0  0.0  0.0  0.0  0.0  0.0  0.0  1.0  1.0  1.0  1.0 ...     0    0    0    0   \n",
       "1  0.0  0.0  0.0  0.0  0.0  1.0  1.0  1.0  1.0  1.0 ...     0    0    0    0   \n",
       "2  0.0  0.0  0.0  0.0  0.0  0.0  0.0  0.0  0.0  1.0 ...     0    0    0    0   \n",
       "3  0.0  0.0  0.0  0.0  0.0  0.0  1.0  1.0  1.0  1.0 ...     0    0    0    0   \n",
       "4  0.0  0.0  0.0  0.0  0.0  0.0  0.0  0.0  0.0  1.0 ...     0    0    0    0   \n",
       "\n",
       "   261  262  263  264  265  266  \n",
       "0    0    0    0    0    0  NaN  \n",
       "1    0    0    0    0    0  NaN  \n",
       "2    0    0    0    0    0  NaN  \n",
       "3    0    0    0    0    0  NaN  \n",
       "4    0    0    0    0    0  NaN  \n",
       "\n",
       "[5 rows x 267 columns]"
      ]
     },
     "execution_count": 3,
     "metadata": {},
     "output_type": "execute_result"
    }
   ],
   "source": [
    "# Inspecting the data\n",
    "data.head()"
   ]
  },
  {
   "cell_type": "code",
   "execution_count": 5,
   "metadata": {},
   "outputs": [
    {
     "data": {
      "text/plain": [
       "(1593, 267)"
      ]
     },
     "execution_count": 5,
     "metadata": {},
     "output_type": "execute_result"
    }
   ],
   "source": [
    "data.shape"
   ]
  },
  {
   "cell_type": "code",
   "execution_count": 6,
   "metadata": {},
   "outputs": [
    {
     "name": "stdout",
     "output_type": "stream",
     "text": [
      "<class 'pandas.core.frame.DataFrame'>\n",
      "RangeIndex: 1593 entries, 0 to 1592\n",
      "Columns: 267 entries, 0 to 266\n",
      "dtypes: float64(257), int64(10)\n",
      "memory usage: 3.2 MB\n"
     ]
    }
   ],
   "source": [
    "data.info()"
   ]
  },
  {
   "cell_type": "code",
   "execution_count": 7,
   "metadata": {},
   "outputs": [
    {
     "data": {
      "text/plain": [
       "0         0\n",
       "1         0\n",
       "2         0\n",
       "3         0\n",
       "4         0\n",
       "5         0\n",
       "6         0\n",
       "7         0\n",
       "8         0\n",
       "9         0\n",
       "10        0\n",
       "11        0\n",
       "12        0\n",
       "13        0\n",
       "14        0\n",
       "15        0\n",
       "16        0\n",
       "17        0\n",
       "18        0\n",
       "19        0\n",
       "20        0\n",
       "21        0\n",
       "22        0\n",
       "23        0\n",
       "24        0\n",
       "25        0\n",
       "26        0\n",
       "27        0\n",
       "28        0\n",
       "29        0\n",
       "       ... \n",
       "237       0\n",
       "238       0\n",
       "239       0\n",
       "240       0\n",
       "241       0\n",
       "242       0\n",
       "243       0\n",
       "244       0\n",
       "245       0\n",
       "246       0\n",
       "247       0\n",
       "248       0\n",
       "249       0\n",
       "250       0\n",
       "251       0\n",
       "252       0\n",
       "253       0\n",
       "254       0\n",
       "255       0\n",
       "256       0\n",
       "257       0\n",
       "258       0\n",
       "259       0\n",
       "260       0\n",
       "261       0\n",
       "262       0\n",
       "263       0\n",
       "264       0\n",
       "265       0\n",
       "266    1593\n",
       "Length: 267, dtype: int64"
      ]
     },
     "execution_count": 7,
     "metadata": {},
     "output_type": "execute_result"
    }
   ],
   "source": [
    "data.isnull().sum()"
   ]
  },
  {
   "cell_type": "code",
   "execution_count": 4,
   "metadata": {},
   "outputs": [],
   "source": [
    "# from above we could see all the rows are null for the column '266', so we are dropping it\n",
    "data = data.drop(data.columns[266],axis=1)"
   ]
  },
  {
   "cell_type": "code",
   "execution_count": 5,
   "metadata": {},
   "outputs": [
    {
     "data": {
      "text/html": [
       "<div>\n",
       "<style>\n",
       "    .dataframe thead tr:only-child th {\n",
       "        text-align: right;\n",
       "    }\n",
       "\n",
       "    .dataframe thead th {\n",
       "        text-align: left;\n",
       "    }\n",
       "\n",
       "    .dataframe tbody tr th {\n",
       "        vertical-align: top;\n",
       "    }\n",
       "</style>\n",
       "<table border=\"1\" class=\"dataframe\">\n",
       "  <thead>\n",
       "    <tr style=\"text-align: right;\">\n",
       "      <th></th>\n",
       "      <th>0</th>\n",
       "      <th>1</th>\n",
       "      <th>2</th>\n",
       "      <th>3</th>\n",
       "      <th>4</th>\n",
       "      <th>5</th>\n",
       "      <th>6</th>\n",
       "      <th>7</th>\n",
       "      <th>8</th>\n",
       "      <th>9</th>\n",
       "      <th>...</th>\n",
       "      <th>256</th>\n",
       "      <th>257</th>\n",
       "      <th>258</th>\n",
       "      <th>259</th>\n",
       "      <th>260</th>\n",
       "      <th>261</th>\n",
       "      <th>262</th>\n",
       "      <th>263</th>\n",
       "      <th>264</th>\n",
       "      <th>265</th>\n",
       "    </tr>\n",
       "  </thead>\n",
       "  <tbody>\n",
       "    <tr>\n",
       "      <th>0</th>\n",
       "      <td>0.0</td>\n",
       "      <td>0.0</td>\n",
       "      <td>0.0</td>\n",
       "      <td>0.0</td>\n",
       "      <td>0.0</td>\n",
       "      <td>0.0</td>\n",
       "      <td>1.0</td>\n",
       "      <td>1.0</td>\n",
       "      <td>1.0</td>\n",
       "      <td>1.0</td>\n",
       "      <td>...</td>\n",
       "      <td>1</td>\n",
       "      <td>0</td>\n",
       "      <td>0</td>\n",
       "      <td>0</td>\n",
       "      <td>0</td>\n",
       "      <td>0</td>\n",
       "      <td>0</td>\n",
       "      <td>0</td>\n",
       "      <td>0</td>\n",
       "      <td>0</td>\n",
       "    </tr>\n",
       "    <tr>\n",
       "      <th>1</th>\n",
       "      <td>0.0</td>\n",
       "      <td>0.0</td>\n",
       "      <td>0.0</td>\n",
       "      <td>0.0</td>\n",
       "      <td>0.0</td>\n",
       "      <td>1.0</td>\n",
       "      <td>1.0</td>\n",
       "      <td>1.0</td>\n",
       "      <td>1.0</td>\n",
       "      <td>1.0</td>\n",
       "      <td>...</td>\n",
       "      <td>1</td>\n",
       "      <td>0</td>\n",
       "      <td>0</td>\n",
       "      <td>0</td>\n",
       "      <td>0</td>\n",
       "      <td>0</td>\n",
       "      <td>0</td>\n",
       "      <td>0</td>\n",
       "      <td>0</td>\n",
       "      <td>0</td>\n",
       "    </tr>\n",
       "    <tr>\n",
       "      <th>2</th>\n",
       "      <td>0.0</td>\n",
       "      <td>0.0</td>\n",
       "      <td>0.0</td>\n",
       "      <td>0.0</td>\n",
       "      <td>0.0</td>\n",
       "      <td>0.0</td>\n",
       "      <td>0.0</td>\n",
       "      <td>0.0</td>\n",
       "      <td>0.0</td>\n",
       "      <td>1.0</td>\n",
       "      <td>...</td>\n",
       "      <td>1</td>\n",
       "      <td>0</td>\n",
       "      <td>0</td>\n",
       "      <td>0</td>\n",
       "      <td>0</td>\n",
       "      <td>0</td>\n",
       "      <td>0</td>\n",
       "      <td>0</td>\n",
       "      <td>0</td>\n",
       "      <td>0</td>\n",
       "    </tr>\n",
       "    <tr>\n",
       "      <th>3</th>\n",
       "      <td>0.0</td>\n",
       "      <td>0.0</td>\n",
       "      <td>0.0</td>\n",
       "      <td>0.0</td>\n",
       "      <td>0.0</td>\n",
       "      <td>0.0</td>\n",
       "      <td>1.0</td>\n",
       "      <td>1.0</td>\n",
       "      <td>1.0</td>\n",
       "      <td>1.0</td>\n",
       "      <td>...</td>\n",
       "      <td>1</td>\n",
       "      <td>0</td>\n",
       "      <td>0</td>\n",
       "      <td>0</td>\n",
       "      <td>0</td>\n",
       "      <td>0</td>\n",
       "      <td>0</td>\n",
       "      <td>0</td>\n",
       "      <td>0</td>\n",
       "      <td>0</td>\n",
       "    </tr>\n",
       "    <tr>\n",
       "      <th>4</th>\n",
       "      <td>0.0</td>\n",
       "      <td>0.0</td>\n",
       "      <td>0.0</td>\n",
       "      <td>0.0</td>\n",
       "      <td>0.0</td>\n",
       "      <td>0.0</td>\n",
       "      <td>0.0</td>\n",
       "      <td>0.0</td>\n",
       "      <td>0.0</td>\n",
       "      <td>1.0</td>\n",
       "      <td>...</td>\n",
       "      <td>1</td>\n",
       "      <td>0</td>\n",
       "      <td>0</td>\n",
       "      <td>0</td>\n",
       "      <td>0</td>\n",
       "      <td>0</td>\n",
       "      <td>0</td>\n",
       "      <td>0</td>\n",
       "      <td>0</td>\n",
       "      <td>0</td>\n",
       "    </tr>\n",
       "  </tbody>\n",
       "</table>\n",
       "<p>5 rows × 266 columns</p>\n",
       "</div>"
      ],
      "text/plain": [
       "   0    1    2    3    4    5    6    7    8    9   ...   256  257  258  259  \\\n",
       "0  0.0  0.0  0.0  0.0  0.0  0.0  1.0  1.0  1.0  1.0 ...     1    0    0    0   \n",
       "1  0.0  0.0  0.0  0.0  0.0  1.0  1.0  1.0  1.0  1.0 ...     1    0    0    0   \n",
       "2  0.0  0.0  0.0  0.0  0.0  0.0  0.0  0.0  0.0  1.0 ...     1    0    0    0   \n",
       "3  0.0  0.0  0.0  0.0  0.0  0.0  1.0  1.0  1.0  1.0 ...     1    0    0    0   \n",
       "4  0.0  0.0  0.0  0.0  0.0  0.0  0.0  0.0  0.0  1.0 ...     1    0    0    0   \n",
       "\n",
       "   260  261  262  263  264  265  \n",
       "0    0    0    0    0    0    0  \n",
       "1    0    0    0    0    0    0  \n",
       "2    0    0    0    0    0    0  \n",
       "3    0    0    0    0    0    0  \n",
       "4    0    0    0    0    0    0  \n",
       "\n",
       "[5 rows x 266 columns]"
      ]
     },
     "execution_count": 5,
     "metadata": {},
     "output_type": "execute_result"
    }
   ],
   "source": [
    "data.head()"
   ]
  },
  {
   "cell_type": "code",
   "execution_count": 6,
   "metadata": {},
   "outputs": [],
   "source": [
    "# We are seperating the predictors and labels\n",
    "X = data.loc[:,:255] #Ideally the input\n",
    "y = data.loc[:,256:] # Ideally the output/target"
   ]
  },
  {
   "cell_type": "code",
   "execution_count": 7,
   "metadata": {},
   "outputs": [
    {
     "name": "stderr",
     "output_type": "stream",
     "text": [
      "/home/nbuser/anaconda3_501/lib/python3.6/site-packages/numpy/core/fromnumeric.py:52: FutureWarning: reshape is deprecated and will raise in a subsequent release. Please use .values.reshape(...) instead\n",
      "  return getattr(obj, method)(*args, **kwds)\n"
     ]
    },
    {
     "data": {
      "text/plain": [
       "<matplotlib.image.AxesImage at 0x7f3d3d5d1c88>"
      ]
     },
     "execution_count": 7,
     "metadata": {},
     "output_type": "execute_result"
    },
    {
     "data": {
      "image/png": "[encoded data removed]",
      "text/plain": [
       "<matplotlib.figure.Figure at 0x7f3d3d934a90>"
      ]
     },
     "metadata": {},
     "output_type": "display_data"
    }
   ],
   "source": [
    "# Just seeing which digit exists in one of the input\n",
    "img = np.reshape(X.loc[1,:255],(16,16))\n",
    "plt.axis('off')\n",
    "plt.imshow(img)"
   ]
  },
  {
   "cell_type": "code",
   "execution_count": 8,
   "metadata": {},
   "outputs": [],
   "source": [
    "# Splitting the training data into train and test data, based on dataset information am using 50% split\n",
    "x_train,x_test,y_train,y_test = train_test_split(X,y,test_size= 0.5, random_state = 4)\n",
    "# most of the deep learning models best work on vectors are arrays. So we are converting the data into numpy array and model expects 4D vector so we are reshaping it \n",
    "# based on attribute information we are using 16X16 dimensions\n",
    "x_train=np.array (x_train).reshape(-1,16,16,1)\n",
    "x_test = np.array(x_test).reshape(-1,16,16,1)"
   ]
  },
  {
   "cell_type": "code",
   "execution_count": 9,
   "metadata": {},
   "outputs": [
    {
     "data": {
      "text/plain": [
       "(796, 16, 16, 1)"
      ]
     },
     "execution_count": 9,
     "metadata": {},
     "output_type": "execute_result"
    }
   ],
   "source": [
    "x_train.shape"
   ]
  },
  {
   "cell_type": "markdown",
   "metadata": {},
   "source": [
    "## Building the model\n",
    "### Here I am using Keras Sequential model (linear stack of layers). You can learn more about this here https://keras.io/getting-started/sequential-model-guide/\n",
    "### I have added 2 conv2D layers with filters 16, 32 and kernal size of 3 with padding.\n",
    "### Using Maxpooling2D with pool size 2, it will help to reduce the computations between the layers with minimal loss of information\n",
    "### Drop out is to reduce the overfitting in training model\n",
    "### ReLu activation function is used : Rectified Linear activation (To reduce the non linearity at neuron in network)\n",
    "                    \n",
    "                     ReLu(x) = { 0 when x<0 and x when x>=0}\n",
    "### Fully connected layer is defined with Dense layer. Before sending the data into fully connected we should flatten the data. It will convert the data into 1D vector which is expected by fully connected layer\n",
    "### Last layer is called output layer: This layer always should have the number equals to labels count. If it is binary classification we can use sigmoid, if more than 2 classification we always use softmax as the activation function. "
   ]
  },
  {
   "cell_type": "code",
   "execution_count": 10,
   "metadata": {},
   "outputs": [],
   "source": [
    "input_shape = (16, 16, 1)\n",
    "num_classes = 10 # length of target\n",
    "model = Sequential()\n",
    "model.add(Conv2D(filters=16, kernel_size=(3,3),\n",
    "                 activation='relu',\n",
    "                 input_shape=input_shape,padding = 'same'))\n",
    "model.add(Conv2D(32, (3,3), activation='relu',input_shape=input_shape))\n",
    "model.add(MaxPooling2D(pool_size=(2, 2)))\n",
    "model.add(Dropout(0.25))\n",
    "model.add(Flatten())\n",
    "model.add(Dense(64, activation='relu'))\n",
    "model.add(Dropout(0.5))\n",
    "model.add(Dense(num_classes, activation='softmax'))\n"
   ]
  },
  {
   "cell_type": "code",
   "execution_count": 11,
   "metadata": {},
   "outputs": [
    {
     "name": "stdout",
     "output_type": "stream",
     "text": [
      "_________________________________________________________________\n",
      "Layer (type)                 Output Shape              Param #   \n",
      "=================================================================\n",
      "conv2d_1 (Conv2D)            (None, 16, 16, 16)        160       \n",
      "_________________________________________________________________\n",
      "conv2d_2 (Conv2D)            (None, 14, 14, 32)        4640      \n",
      "_________________________________________________________________\n",
      "max_pooling2d_1 (MaxPooling2 (None, 7, 7, 32)          0         \n",
      "_________________________________________________________________\n",
      "dropout_1 (Dropout)          (None, 7, 7, 32)          0         \n",
      "_________________________________________________________________\n",
      "flatten_1 (Flatten)          (None, 1568)              0         \n",
      "_________________________________________________________________\n",
      "dense_1 (Dense)              (None, 64)                100416    \n",
      "_________________________________________________________________\n",
      "dropout_2 (Dropout)          (None, 64)                0         \n",
      "_________________________________________________________________\n",
      "dense_2 (Dense)              (None, 10)                650       \n",
      "=================================================================\n",
      "Total params: 105,866\n",
      "Trainable params: 105,866\n",
      "Non-trainable params: 0\n",
      "_________________________________________________________________\n"
     ]
    }
   ],
   "source": [
    "# looking into summary of above created model\n",
    "model.summary()"
   ]
  },
  {
   "cell_type": "markdown",
   "metadata": {},
   "source": [
    "### Usually the target variable always should be one hot encoded before sending into the model.\n",
    "### But here we are not doing this because in the dataset it is already mentioned that target data is encoded for us.\n",
    "### we can use below code to do one-hot encoding if it is not already encoded\n",
    "                # Convert labels to categorical one-hot encoding\n",
    "                one_hot_labels = keras.utils.to_categorical(labels, num_classes=10)"
   ]
  },
  {
   "cell_type": "code",
   "execution_count": 12,
   "metadata": {},
   "outputs": [],
   "source": [
    "batch_size = 75\n",
    "epochs =20"
   ]
  },
  {
   "cell_type": "code",
   "execution_count": 13,
   "metadata": {},
   "outputs": [],
   "source": [
    "# here we are compiling the model (Back propagation).It is to reduce the error and optimizing our model better\n",
    "# We can use different kind of optimizers: so many are available (Adam is mostly used one)\n",
    "model.compile(loss=keras.losses.categorical_crossentropy,\n",
    "              optimizer=keras.optimizers.Adagrad(),\n",
    "              metrics=['accuracy'])"
   ]
  },
  {
   "cell_type": "code",
   "execution_count": 14,
   "metadata": {},
   "outputs": [
    {
     "name": "stdout",
     "output_type": "stream",
     "text": [
      "Train on 796 samples, validate on 797 samples\n",
      "Epoch 1/20\n",
      "796/796 [==============================] - 2s 3ms/step - loss: 2.0418 - acc: 0.2940 - val_loss: 1.1205 - val_acc: 0.6562\n",
      "Epoch 2/20\n",
      "796/796 [==============================] - 1s 2ms/step - loss: 1.2016 - acc: 0.5867 - val_loss: 0.6559 - val_acc: 0.7992\n",
      "Epoch 3/20\n",
      "796/796 [==============================] - 1s 2ms/step - loss: 0.7156 - acc: 0.7676 - val_loss: 0.4220 - val_acc: 0.8946\n",
      "Epoch 4/20\n",
      "796/796 [==============================] - 2s 2ms/step - loss: 0.5716 - acc: 0.8216 - val_loss: 0.2801 - val_acc: 0.9084\n",
      "Epoch 5/20\n",
      "796/796 [==============================] - 1s 2ms/step - loss: 0.4745 - acc: 0.8417 - val_loss: 0.2516 - val_acc: 0.9260\n",
      "Epoch 6/20\n",
      "796/796 [==============================] - 1s 2ms/step - loss: 0.4083 - acc: 0.8643 - val_loss: 0.2039 - val_acc: 0.9360\n",
      "Epoch 7/20\n",
      "796/796 [==============================] - 1s 2ms/step - loss: 0.3425 - acc: 0.8995 - val_loss: 0.1940 - val_acc: 0.9385\n",
      "Epoch 8/20\n",
      "796/796 [==============================] - 1s 2ms/step - loss: 0.2730 - acc: 0.9209 - val_loss: 0.1559 - val_acc: 0.9498\n",
      "Epoch 9/20\n",
      "796/796 [==============================] - 1s 2ms/step - loss: 0.2930 - acc: 0.9070 - val_loss: 0.1665 - val_acc: 0.9460\n",
      "Epoch 10/20\n",
      "796/796 [==============================] - 1s 2ms/step - loss: 0.2642 - acc: 0.9158 - val_loss: 0.1531 - val_acc: 0.9536\n",
      "Epoch 11/20\n",
      "796/796 [==============================] - 1s 2ms/step - loss: 0.2388 - acc: 0.9259 - val_loss: 0.1470 - val_acc: 0.9473\n",
      "Epoch 12/20\n",
      "796/796 [==============================] - 1s 2ms/step - loss: 0.2170 - acc: 0.9246 - val_loss: 0.1359 - val_acc: 0.9548\n",
      "Epoch 13/20\n",
      "796/796 [==============================] - 1s 2ms/step - loss: 0.2027 - acc: 0.9259 - val_loss: 0.1425 - val_acc: 0.9511\n",
      "Epoch 14/20\n",
      "796/796 [==============================] - 1s 2ms/step - loss: 0.1886 - acc: 0.9372 - val_loss: 0.1273 - val_acc: 0.9523\n",
      "Epoch 15/20\n",
      "796/796 [==============================] - 2s 2ms/step - loss: 0.1990 - acc: 0.9410 - val_loss: 0.1232 - val_acc: 0.9611\n",
      "Epoch 16/20\n",
      "796/796 [==============================] - 1s 2ms/step - loss: 0.1544 - acc: 0.9485 - val_loss: 0.1266 - val_acc: 0.9573\n",
      "Epoch 17/20\n",
      "796/796 [==============================] - 1s 2ms/step - loss: 0.1786 - acc: 0.9397 - val_loss: 0.1356 - val_acc: 0.9498\n",
      "Epoch 18/20\n",
      "796/796 [==============================] - 1s 2ms/step - loss: 0.1559 - acc: 0.9523 - val_loss: 0.1193 - val_acc: 0.9573\n",
      "Epoch 19/20\n",
      "796/796 [==============================] - 2s 2ms/step - loss: 0.1310 - acc: 0.9573 - val_loss: 0.1141 - val_acc: 0.9611\n",
      "Epoch 20/20\n",
      "796/796 [==============================] - 2s 2ms/step - loss: 0.1401 - acc: 0.9535 - val_loss: 0.1418 - val_acc: 0.9573\n",
      "Test loss: 0.14183912307510113\n",
      "Test accuracy: 0.9573400244210266\n"
     ]
    }
   ],
   "source": [
    "# Finally going to train the model which created earlier and validating across validation data.\n",
    "history = model.fit(x_train, y_train,\n",
    "          batch_size=batch_size,\n",
    "          epochs=epochs,\n",
    "          verbose=1,\n",
    "          validation_data=(x_test, y_test), validation_split = 0.5)\n",
    "score = model.evaluate(x_test, y_test, verbose=0)\n",
    "print('Test loss:', score[0])\n",
    "print('Test accuracy:', score[1])"
   ]
  },
  {
   "cell_type": "markdown",
   "metadata": {},
   "source": [
    "#### We got 96% accuracy on test data. So let's go ahead and predict the data and validate it"
   ]
  },
  {
   "cell_type": "code",
   "execution_count": 15,
   "metadata": {},
   "outputs": [],
   "source": [
    "pred = model.predict(x_test)"
   ]
  },
  {
   "cell_type": "code",
   "execution_count": 18,
   "metadata": {},
   "outputs": [
    {
     "data": {
      "text/plain": [
       "array([4, 4, 0, 0, 2, 2, 3, 7, 7, 6, 3, 6, 8, 2, 8, 8, 2, 1, 5, 3, 3, 4,\n",
       "       4, 1, 0, 5, 5, 4, 5, 8, 5, 3, 8, 0, 6, 3, 7, 0, 0, 5, 6, 6, 0, 0,\n",
       "       6, 1, 2, 9, 8, 2, 0, 7, 3, 9, 9, 8, 8, 4, 6, 9, 8, 0, 9, 9, 3, 4,\n",
       "       4, 1, 7, 5, 1, 3, 3, 6, 5, 5, 6, 6, 3, 6, 3, 5, 9, 0, 8, 2, 4, 8,\n",
       "       9, 8, 1, 0, 5, 4, 3, 2, 9, 6, 7, 3, 0, 2, 0, 4, 1, 2, 3, 5, 8, 8,\n",
       "       6, 8, 0, 5, 6, 7, 9, 1, 8, 6, 7, 8, 4, 0, 5, 4, 8, 4, 2, 2, 3, 5,\n",
       "       2, 6, 6, 2, 1, 8, 4, 3, 1, 3, 3, 1, 9, 1, 2, 6, 8, 3, 0, 7, 6, 6,\n",
       "       8, 1, 0, 5, 1, 8, 1, 1, 3, 5, 7, 2, 5, 3, 8, 5, 4, 1, 4, 8, 4, 1,\n",
       "       7, 7, 0, 4, 4, 6, 0, 7, 1, 0, 1, 2, 6, 4, 6, 3, 6, 5, 3, 7, 6, 4,\n",
       "       0, 4, 6, 3, 0, 9, 7, 1, 2, 4, 4, 0, 0, 9, 7, 0, 0, 4, 1, 6, 7, 1,\n",
       "       3, 8, 1, 4, 3, 4, 0, 1, 8, 6, 0, 1, 9, 2, 5, 1, 5, 9, 2, 7, 6, 4,\n",
       "       4, 5, 8, 9, 8, 5, 1, 8, 6, 6, 2, 3, 8, 9, 3, 0, 2, 4, 7, 3, 0, 4,\n",
       "       7, 4, 8, 9, 0, 3, 1, 5, 4, 4, 4, 4, 1, 6, 9, 1, 0, 2, 6, 0, 3, 9,\n",
       "       4, 5, 6, 2, 8, 3, 9, 9, 5, 4, 5, 0, 9, 2, 2, 9, 4, 7, 8, 7, 3, 3,\n",
       "       3, 7, 9, 4, 1, 7, 9, 6, 0, 8, 4, 0, 3, 3, 3, 1, 1, 7, 4, 0, 7, 1,\n",
       "       2, 0, 6, 5, 4, 3, 1, 0, 7, 4, 6, 9, 1, 2, 7, 8, 1, 8, 7, 1, 9, 0,\n",
       "       6, 6, 5, 3, 2, 7, 1, 0, 4, 8, 2, 9, 1, 3, 2, 6, 9, 9, 5, 9, 6, 0,\n",
       "       4, 0, 6, 6, 7, 0, 8, 2, 3, 4, 9, 6, 3, 4, 6, 6, 6, 8, 4, 1, 6, 3,\n",
       "       0, 9, 9, 9, 2, 8, 2, 3, 7, 0, 2, 3, 1, 3, 0, 5, 1, 7, 1, 4, 1, 2,\n",
       "       6, 1, 5, 5, 3, 2, 5, 0, 4, 7, 4, 6, 0, 9, 9, 6, 5, 2, 2, 4, 5, 7,\n",
       "       2, 8, 8, 8, 4, 3, 6, 2, 4, 1, 1, 7, 7, 4, 3, 6, 4, 7, 8, 2, 8, 0,\n",
       "       8, 0, 0, 0, 5, 3, 5, 1, 7, 5, 9, 0, 7, 9, 2, 0, 6, 3, 6, 6, 3, 8,\n",
       "       1, 3, 3, 7, 9, 2, 6, 0, 1, 2, 2, 1, 7, 6, 6, 2, 0, 1, 1, 2, 9, 2,\n",
       "       7, 4, 5, 1, 6, 0, 1, 9, 1, 6, 1, 2, 5, 2, 1, 2, 1, 1, 1, 3, 6, 3,\n",
       "       4, 8, 7, 5, 4, 2, 1, 4, 6, 0, 2, 6, 7, 3, 5, 1, 2, 6, 6, 6, 3, 8,\n",
       "       6, 5, 4, 5, 9, 8, 0, 3, 0, 7, 2, 1, 8, 9, 8, 5, 4, 0, 2, 0, 8, 5,\n",
       "       3, 7, 5, 4, 7, 7, 4, 1, 6, 7, 7, 2, 0, 6, 4, 7, 3, 8, 6, 4, 8, 7,\n",
       "       4, 4, 5, 6, 7, 2, 3, 1, 6, 2, 7, 5, 4, 9, 2, 2, 5, 1, 8, 3, 7, 8,\n",
       "       3, 9, 7, 5, 6, 4, 7, 8, 5, 9, 6, 8, 2, 6, 6, 6, 1, 7, 3, 5, 7, 1,\n",
       "       5, 9, 2, 1, 3, 0, 8, 2, 1, 1, 7, 2, 9, 7, 7, 9, 2, 0, 3, 6, 0, 0,\n",
       "       2, 4, 0, 2, 3, 0, 9, 5, 5, 4, 7, 5, 5, 1, 7, 7, 9, 3, 6, 0, 3, 0,\n",
       "       3, 5, 2, 7, 4, 3, 4, 1, 7, 3, 6, 6, 0, 2, 7, 9, 2, 1, 6, 2, 3, 8,\n",
       "       2, 0, 0, 2, 0, 0, 7, 3, 0, 3, 3, 0, 1, 8, 7, 3, 7, 2, 0, 3, 4, 7,\n",
       "       8, 9, 6, 0, 3, 9, 3, 2, 0, 5, 9, 9, 3, 3, 1, 4, 6, 5, 0, 7, 8, 3,\n",
       "       0, 7, 3, 6, 1, 7, 3, 9, 6, 6, 8, 6, 4, 8, 8, 9, 4, 4, 6, 8, 2, 7,\n",
       "       0, 5, 1, 3, 9, 0, 7, 2, 8, 8, 5, 3, 3, 2, 2, 4, 4, 6, 0, 8, 3, 8,\n",
       "       7, 5, 9, 5, 9])"
      ]
     },
     "execution_count": 18,
     "metadata": {},
     "output_type": "execute_result"
    }
   ],
   "source": [
    "pred.argmax(axis=1)"
   ]
  },
  {
   "cell_type": "code",
   "execution_count": 20,
   "metadata": {},
   "outputs": [],
   "source": [
    "import random"
   ]
  },
  {
   "cell_type": "code",
   "execution_count": 21,
   "metadata": {},
   "outputs": [
    {
     "name": "stdout",
     "output_type": "stream",
     "text": [
      "Actual labels: [1, 7, 8, 8, 6]\n",
      "Predicted labels: [1, 7, 8, 8, 6]\n",
      "\n",
      "Actual labels: [6, 6, 5, 3, 0]\n",
      "Predicted labels: [6, 6, 5, 3, 0]\n",
      "\n",
      "Actual labels: [1, 6, 4, 8, 6]\n",
      "Predicted labels: [1, 6, 4, 8, 6]\n",
      "\n",
      "Actual labels: [7, 3, 2, 9, 4]\n",
      "Predicted labels: [7, 3, 2, 9, 4]\n",
      "\n",
      "Actual labels: [0, 9, 0, 3, 4]\n",
      "Predicted labels: [0, 9, 0, 3, 4]\n",
      "\n"
     ]
    }
   ],
   "source": [
    "#Printing some examples of real and predicted labels\n",
    "for i in range(0,5):\n",
    "    \n",
    "    actual_labels = []\n",
    "    predicted_labels = []\n",
    "    \n",
    "    for j in range(0,5):\n",
    "        #print(j,i)\n",
    "        n = random.randrange(0, x_test.shape[0])\n",
    "        actual_labels.append(np.argmax(y_test.values[n]))\n",
    "        predicted_labels.append(np.argmax(pred[n]))\n",
    "        \n",
    "    print(\"Actual labels: {}\".format(actual_labels))\n",
    "    print(\"Predicted labels: {}\\n\".format(predicted_labels))"
   ]
  },
  {
   "cell_type": "markdown",
   "metadata": {},
   "source": [
    "#### From above we got both actual and predicted values are matching. That sound's great"
   ]
  },
  {
   "cell_type": "code",
   "execution_count": 25,
   "metadata": {},
   "outputs": [
    {
     "data": {
      "text/plain": [
       "4"
      ]
     },
     "execution_count": 25,
     "metadata": {},
     "output_type": "execute_result"
    }
   ],
   "source": [
    "# Predicted digit\n",
    "pred.argmax(axis=1)[1]"
   ]
  },
  {
   "cell_type": "code",
   "execution_count": 26,
   "metadata": {},
   "outputs": [
    {
     "data": {
      "text/plain": [
       "<matplotlib.image.AxesImage at 0x7f3d3c957a90>"
      ]
     },
     "execution_count": 26,
     "metadata": {},
     "output_type": "execute_result"
    },
    {
     "data": {
      "image/png": "[encoded data removed]",
      "text/plain": [
       "<matplotlib.figure.Figure at 0x7f3d3c8c3d68>"
      ]
     },
     "metadata": {},
     "output_type": "display_data"
    }
   ],
   "source": [
    "# Actual digit # Both are matching :)\n",
    "img = np.reshape(x_test[1:2,:255],(16,16))\n",
    "plt.axis('off')\n",
    "plt.imshow(img)"
   ]
  },
  {
   "cell_type": "markdown",
   "metadata": {},
   "source": [
    "### Analysing the accuracy and loss between training and validation data"
   ]
  },
  {
   "cell_type": "code",
   "execution_count": 27,
   "metadata": {},
   "outputs": [],
   "source": [
    "import matplotlib.pyplot as plt\n",
    "plt.style.use('ggplot')"
   ]
  },
  {
   "cell_type": "code",
   "execution_count": 28,
   "metadata": {},
   "outputs": [],
   "source": [
    "acc = history.history['acc']\n",
    "val_acc = history.history['val_acc']\n",
    "loss = history.history['loss']\n",
    "val_loss = history.history['val_loss']\n",
    "epoch = np.arange(0,epochs)"
   ]
  },
  {
   "cell_type": "code",
   "execution_count": 29,
   "metadata": {},
   "outputs": [
    {
     "data": {
      "text/plain": [
       "<matplotlib.legend.Legend at 0x7f3d3c5fee48>"
      ]
     },
     "execution_count": 29,
     "metadata": {},
     "output_type": "execute_result"
    },
    {
     "data": {
      "image/png": "[encoded data removed]",
      "text/plain": [
       "<matplotlib.figure.Figure at 0x7f3d3c8d0320>"
      ]
     },
     "metadata": {},
     "output_type": "display_data"
    }
   ],
   "source": [
    "fig, axes = plt.subplots(1,2,figsize=(16,8))\n",
    "\n",
    "axes[0].plot(epoch, acc, 'bo', label='Training acc')\n",
    "axes[0].plot(epoch, val_acc, 'b', label='Validation acc')\n",
    "axes[0].set_title('Training and validation accuracy')\n",
    "axes[0].legend()\n",
    "\n",
    "axes[1].plot(epoch, loss, 'bo', label='Training loss')\n",
    "axes[1].plot(epoch, val_loss, 'b', label='Validation loss')\n",
    "axes[1].set_title('Training and validation loss')\n",
    "axes[1].legend()"
   ]
  }
 ],
 "metadata": {
  "kernelspec": {
   "display_name": "Python 3",
   "language": "python",
   "name": "python3"
  },
  "language_info": {
   "codemirror_mode": {
    "name": "ipython",
    "version": 3
   },
   "file_extension": ".py",
   "mimetype": "text/x-python",
   "name": "python",
   "nbconvert_exporter": "python",
   "pygments_lexer": "ipython3",
   "version": "3.6.4"
  }
 },
 "nbformat": 4,
 "nbformat_minor": 2
}
