{
 "cells": [
  {
   "cell_type": "code",
   "execution_count": 1,
   "metadata": {},
   "outputs": [],
   "source": [
    "# Importing required modules for Spacy text classification\n",
    "import pandas as pd\n",
    "import numpy as np # linear algebra\n",
    "import random\n",
    "import spacy\n",
    "from spacy.util import minibatch, compounding"
   ]
  },
  {
   "cell_type": "code",
   "execution_count": 2,
   "metadata": {},
   "outputs": [],
   "source": [
    "#Getting the data from source excel\n",
    "train_df = pd.read_excel('Thinkcol_case_study.xlsx',sheet_name='train')\n",
    "test_df = pd.read_excel('Thinkcol_case_study.xlsx',sheet_name='predict')"
   ]
  },
  {
   "cell_type": "code",
   "execution_count": 26,
   "metadata": {},
   "outputs": [],
   "source": [
    "### Exploring the data"
   ]
  },
  {
   "cell_type": "code",
   "execution_count": 3,
   "metadata": {},
   "outputs": [
    {
     "name": "stdout",
     "output_type": "stream",
     "text": [
      "<class 'pandas.core.frame.DataFrame'>\n",
      "RangeIndex: 1743 entries, 0 to 1742\n",
      "Data columns (total 4 columns):\n",
      "ID          1743 non-null int64\n",
      "Mention     1743 non-null object\n",
      "Target      1743 non-null int64\n",
      "Category    1743 non-null object\n",
      "dtypes: int64(2), object(2)\n",
      "memory usage: 54.5+ KB\n"
     ]
    }
   ],
   "source": [
    "train_df.info()"
   ]
  },
  {
   "cell_type": "code",
   "execution_count": 4,
   "metadata": {},
   "outputs": [
    {
     "name": "stdout",
     "output_type": "stream",
     "text": [
      "<class 'pandas.core.frame.DataFrame'>\n",
      "RangeIndex: 48415 entries, 0 to 48414\n",
      "Data columns (total 4 columns):\n",
      "id            48415 non-null int64\n",
      "Message ID    48415 non-null int64\n",
      "Date          48415 non-null datetime64[ns]\n",
      "Mention       48385 non-null object\n",
      "dtypes: datetime64[ns](1), int64(2), object(1)\n",
      "memory usage: 1.5+ MB\n"
     ]
    }
   ],
   "source": [
    "test_df.info()"
   ]
  },
  {
   "cell_type": "code",
   "execution_count": 5,
   "metadata": {},
   "outputs": [],
   "source": [
    "# Deleting the data from test where reviews are Nan\n",
    "test_df.dropna(axis = 0, subset=['Mention'],inplace =True)"
   ]
  },
  {
   "cell_type": "code",
   "execution_count": 6,
   "metadata": {},
   "outputs": [
    {
     "data": {
      "text/plain": [
       "0    1666\n",
       "1      77\n",
       "Name: Target, dtype: int64"
      ]
     },
     "execution_count": 6,
     "metadata": {},
     "output_type": "execute_result"
    }
   ],
   "source": [
    "train_df['Target'].value_counts() #imbalanced dataset"
   ]
  },
  {
   "cell_type": "code",
   "execution_count": 7,
   "metadata": {},
   "outputs": [],
   "source": [
    "#Format the dataset for use in spacy\n",
    "train_df['dataset'] = train_df.apply(lambda row: (row['Mention'],row['Target']), axis=1)\n",
    "train = train_df['dataset'].tolist()"
   ]
  },
  {
   "cell_type": "code",
   "execution_count": 8,
   "metadata": {},
   "outputs": [
    {
     "data": {
      "text/plain": [
       "('moto G5 plus azul safira e com apenas 1 semana de uso o mesmo apresentou defeito o CHIP 2 não tem sinal e pela pesquisa que fiz este defeito é característico do moto g então entrei em contato com a Motorola para resolução do meu problema através do chat a mesma passou alguns procedimentos que não deram certo e então solicitaram que eu enviasse o celular para a assistência técnica que fica 400km da',\n",
       " 1)"
      ]
     },
     "execution_count": 8,
     "metadata": {},
     "output_type": "execute_result"
    }
   ],
   "source": [
    "train[0]"
   ]
  },
  {
   "cell_type": "code",
   "execution_count": 10,
   "metadata": {},
   "outputs": [],
   "source": [
    "#helper functions to split train data into train and validation data\n",
    "def load_data(limit=0, split=0.8):\n",
    "    # Partition off part of the train data for evaluation\n",
    "    train_data = train\n",
    "    random.shuffle(train_data)\n",
    "    train_data = train_data[-limit:]\n",
    "    texts, labels = zip(*train_data)\n",
    "    cats = [{1: bool(y)} for y in labels]\n",
    "    split = int(len(train_data) * split)\n",
    "    return (texts[:split], cats[:split]), (texts[split:], cats[split:])"
   ]
  },
  {
   "cell_type": "code",
   "execution_count": 11,
   "metadata": {},
   "outputs": [],
   "source": [
    "# Helper function for model performance evaluation metrics\n",
    "def evaluate(tokenizer, textcat, texts, cats):\n",
    "    docs = (tokenizer(text) for text in texts)\n",
    "    tp = 1e-8  # True positives\n",
    "    fp = 1e-8  # False positives\n",
    "    fn = 1e-8  # False negatives\n",
    "    tn = 1e-8  # True negatives\n",
    "    for i, doc in enumerate(textcat.pipe(docs)):\n",
    "        gold = cats[i]\n",
    "        for label, score in doc.cats.items():\n",
    "            if label not in gold:\n",
    "                continue\n",
    "            if score >= 0.5 and gold[label] >= 0.5:\n",
    "                tp += 1.\n",
    "            elif score >= 0.5 and gold[label] < 0.5:\n",
    "                fp += 1.\n",
    "            elif score < 0.5 and gold[label] < 0.5:\n",
    "                tn += 1\n",
    "            elif score < 0.5 and gold[label] >= 0.5:\n",
    "                fn += 1\n",
    "    precision = tp / (tp + fp)\n",
    "    recall = tp / (tp + fn)\n",
    "    f_score = 2 * (precision * recall) / (precision + recall)\n",
    "    return {'textcat_p': precision, 'textcat_r': recall, 'textcat_f': f_score}"
   ]
  },
  {
   "cell_type": "code",
   "execution_count": 15,
   "metadata": {},
   "outputs": [],
   "source": [
    "# Loading the model for portugese language, traing and validation the model using train data \n",
    "def main(model=None,n_iter=20,n_texts=2000):\n",
    "    if model is not None:\n",
    "        nlp = spacy.load(model)  # load existing spaCy model\n",
    "        print(\"Loaded model '%s'\" % model)\n",
    "    else:\n",
    "        nlp = spacy.blank('en')  # create blank Language class\n",
    "        print(\"Created blank 'en' model\")\n",
    "\n",
    "    # add the text classifier to the pipeline if it doesn't exist\n",
    "    if 'textcat' not in nlp.pipe_names:\n",
    "        textcat = nlp.create_pipe('textcat')\n",
    "        nlp.add_pipe(textcat, last=True)\n",
    "    # otherwise, get it, so we can add labels to it\n",
    "    else:\n",
    "        textcat = nlp.get_pipe('textcat')\n",
    "\n",
    "    # add label to text classifier\n",
    "    textcat.add_label(1)\n",
    "\n",
    "    # load the train dataset and split into train and validation set\n",
    "    print(\"Loading train data...\")\n",
    "    (train_texts, train_cats), (val_texts, val_cats) = load_data(limit=n_texts)\n",
    "    print(\"Using {} examples ({} training, {} evaluation)\"\n",
    "          .format(n_texts, len(train_texts), len(val_texts)))\n",
    "    train_data = list(zip(train_texts,\n",
    "                          [{'cats': cats} for cats in train_cats]))\n",
    "\n",
    "    # get names of other pipes to disable them during training\n",
    "    other_pipes = [pipe for pipe in nlp.pipe_names if pipe != 'textcat']\n",
    "    with nlp.disable_pipes(*other_pipes):  # only train textcat\n",
    "        optimizer = nlp.begin_training()\n",
    "        print(\"Training the model...\")\n",
    "        print('{:^5}\\t{:^5}\\t{:^5}\\t{:^5}'.format('LOSS', 'P', 'R', 'F'))\n",
    "        for i in range(n_iter):\n",
    "            losses = {}\n",
    "            # batch up the examples using spaCy's minibatch\n",
    "            batches = minibatch(train_data, size=compounding(4., 32., 1.001))\n",
    "            for batch in batches:\n",
    "                texts, annotations = zip(*batch)\n",
    "                #print(annotations)\n",
    "                nlp.update(texts, annotations, sgd=optimizer, drop=0.2, losses=losses)\n",
    "            with textcat.model.use_params(optimizer.averages):\n",
    "                # evaluate on the validation data split off in load_data()\n",
    "                scores = evaluate(nlp.tokenizer, textcat, val_texts, val_cats)\n",
    "            print('{0:.3f}\\t{1:.3f}\\t{2:.3f}\\t{3:.3f}'  # print a simple table\n",
    "                  .format(losses['textcat'], scores['textcat_p'],\n",
    "                          scores['textcat_r'], scores['textcat_f']))\n",
    "    # Saving the trained model        \n",
    "    output_dir = \"./thinkcol_spacy_clf\"\n",
    "    nlp.to_disk(output_dir)"
   ]
  },
  {
   "cell_type": "code",
   "execution_count": 16,
   "metadata": {},
   "outputs": [
    {
     "name": "stdout",
     "output_type": "stream",
     "text": [
      "Loaded model 'pt_core_news_sm'\n",
      "Loading train data...\n",
      "Using 2000 examples (1394 training, 349 evaluation)\n",
      "Warning: Unnamed vectors -- this won't allow multiple vectors models to be loaded. (Shape: (0, 0))\n",
      "Training the model...\n",
      "LOSS \t  P  \t  R  \t  F  \n",
      "15.241\t0.500\t0.000\t0.000\n",
      "13.538\t0.429\t0.214\t0.286\n",
      "12.195\t1.000\t0.214\t0.353\n",
      "6.773\t1.000\t0.571\t0.727\n",
      "4.185\t1.000\t0.643\t0.783\n",
      "2.803\t0.909\t0.714\t0.800\n",
      "1.772\t1.000\t0.643\t0.783\n",
      "1.640\t1.000\t0.643\t0.783\n",
      "0.855\t0.909\t0.714\t0.800\n",
      "1.074\t1.000\t0.714\t0.833\n",
      "1.240\t1.000\t0.714\t0.833\n",
      "0.790\t1.000\t0.643\t0.783\n",
      "1.141\t1.000\t0.643\t0.783\n",
      "0.945\t1.000\t0.643\t0.783\n",
      "0.945\t1.000\t0.643\t0.783\n",
      "1.134\t1.000\t0.643\t0.783\n",
      "0.741\t1.000\t0.643\t0.783\n",
      "0.884\t1.000\t0.643\t0.783\n",
      "0.681\t1.000\t0.643\t0.783\n",
      "0.543\t1.000\t0.714\t0.833\n"
     ]
    }
   ],
   "source": [
    "# Calling the main method\n",
    "if __name__ == '__main__':\n",
    "    main('pt_core_news_sm')"
   ]
  },
  {
   "cell_type": "code",
   "execution_count": 25,
   "metadata": {},
   "outputs": [
    {
     "data": {
      "text/plain": [
       "{1: 0.9966436624526978}"
      ]
     },
     "execution_count": 25,
     "metadata": {},
     "output_type": "execute_result"
    }
   ],
   "source": [
    "#Loading the saved model\n",
    "output_dir = \"./thinkcol_spacy_clf\"\n",
    "testnlp = spacy.load(output_dir)\n",
    "#Format the dataset for use in spacy\n",
    "test_df['dataset'] = test_df.apply(lambda row: (row['Mention']), axis=1)\n",
    "test = test_df['dataset'].tolist()\n",
    "# Predicting the target varible for test data\n",
    "test_data = 'moto G5 plus azul safira e com apenas 1 semana de uso o mesmo apresentou defeito o CHIP 2 não tem sinal e pela pesquisa que fiz este defeito é característico do moto g então entrei em contato com a Motorola para resolução do meu problema através do chat a mesma passou alguns procedimentos que não deram certo e então solicitaram que eu enviasse o celular para a assistência técnica que fica 400km da'\n",
    "testdoc = testnlp(test_data)\n",
    "testdoc.cats"
   ]
  }
 ],
 "metadata": {
  "kernelspec": {
   "display_name": "Python 3",
   "language": "python",
   "name": "python3"
  },
  "language_info": {
   "codemirror_mode": {
    "name": "ipython",
    "version": 3
   },
   "file_extension": ".py",
   "mimetype": "text/x-python",
   "name": "python",
   "nbconvert_exporter": "python",
   "pygments_lexer": "ipython3",
   "version": "3.6.4"
  }
 },
 "nbformat": 4,
 "nbformat_minor": 2
}
