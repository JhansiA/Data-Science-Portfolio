{
 "cells": [
  {
   "cell_type": "code",
   "execution_count": null,
   "metadata": {},
   "outputs": [],
   "source": [
    "import pandas as pd\n",
    "import random\n",
    "import os\n",
    "import shutil"
   ]
  },
  {
   "cell_type": "code",
   "execution_count": null,
   "metadata": {},
   "outputs": [],
   "source": [
    "path = r'C:\\Users\\Jhansi\\Desktop\\CapStone_Project\\driver_imgs_list'"
   ]
  },
  {
   "cell_type": "code",
   "execution_count": null,
   "metadata": {},
   "outputs": [],
   "source": [
    "df = pd.read_csv(path + '/driver_imgs_list.csv')\n",
    "by_drivers = df.groupby('subject')\n",
    "unique_drivers = by_drivers.groups.keys()\n",
    "unique_drivers = list(unique_drivers)\n",
    "# Set validation set percentage with regards to training set\n",
    "val_pct = 0.2\n",
    "random.shuffle(unique_drivers)\n",
    "# These are the drivers we will be entirely moving to the validation set\n",
    "to_val_drivers = unique_drivers[:int(len(unique_drivers) * val_pct)]"
   ]
  },
  {
   "cell_type": "code",
   "execution_count": null,
   "metadata": {},
   "outputs": [],
   "source": [
    "df = df.loc[df['subject'].isin(to_val_drivers)][['classname','img']]"
   ]
  },
  {
   "cell_type": "code",
   "execution_count": null,
   "metadata": {},
   "outputs": [],
   "source": [
    "df.head()"
   ]
  },
  {
   "cell_type": "code",
   "execution_count": null,
   "metadata": {},
   "outputs": [],
   "source": [
    "train_dir = r'C:\\Users\\Jhansi\\Desktop\\CapStone_Project\\imgs\\train_1\\train'\n",
    "valid_dir = r'C:\\Users\\Jhansi\\Desktop\\CapStone_Project\\imgs\\train_1\\validation'"
   ]
  },
  {
   "cell_type": "code",
   "execution_count": null,
   "metadata": {},
   "outputs": [],
   "source": [
    "# creates a directory, called 'validation', and into it, creates 10 subdirs, one for each class. \n",
    "# running the code only ones not all the time\n",
    "directory = 'validation'\n",
    "if not os.path.exists(directory):\n",
    "    os.makedirs(directory)\n",
    "cwd = os.getcwd()\n",
    "path = valid_dir\n",
    "# cretaing sub folders for labels c0,c1,c2...c9\n",
    "[os.mkdir('{}/c{}'.format(path, i)) for i in range(10)]"
   ]
  },
  {
   "cell_type": "code",
   "execution_count": null,
   "metadata": {},
   "outputs": [],
   "source": [
    "# running the code only ones not all the time\n",
    "# MOving the images from train to validation folder\n",
    "i = 0\n",
    "for index, row in df.iterrows():\n",
    "    to_move = train_dir + '/' +  row['classname'] + '/' + row['img']\n",
    "    print(to_move)\n",
    "    i = i + 1\n",
    "    move_to = valid_dir + '/' +  row['classname']\n",
    "    print(move_to)\n",
    "    shutil.move(to_move, move_to)"
   ]
  },
  {
   "cell_type": "code",
   "execution_count": null,
   "metadata": {},
   "outputs": [],
   "source": [
    "# running the code only ones not all the time\n",
    "print ('files to move: ' ,df.shape[0])\n",
    "print ('files moved:   ' ,i)"
   ]
  }
 ],
 "metadata": {
  "kernelspec": {
   "display_name": "Python 3",
   "language": "python",
   "name": "python3"
  },
  "language_info": {
   "codemirror_mode": {
    "name": "ipython",
    "version": 3
   },
   "file_extension": ".py",
   "mimetype": "text/x-python",
   "name": "python",
   "nbconvert_exporter": "python",
   "pygments_lexer": "ipython3",
   "version": "3.6.4"
  }
 },
 "nbformat": 4,
 "nbformat_minor": 2
}
